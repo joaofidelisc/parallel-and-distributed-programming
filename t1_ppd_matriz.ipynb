{
  "nbformat": 4,
  "nbformat_minor": 0,
  "metadata": {
    "colab": {
      "provenance": []
    },
    "kernelspec": {
      "name": "python3",
      "display_name": "Python 3"
    },
    "language_info": {
      "name": "python"
    }
  },
  "cells": [
    {
      "cell_type": "markdown",
      "source": [
        "#Escalabilidade da multiplicação de matrizes\n",
        "##Integrantes do grupo:  \n",
        "João Vitor Fidelis Cardozo, RA: 769719;  \n",
        "Rômulo Alves, RA: 757944."
      ],
      "metadata": {
        "id": "LWHVB82D7ILC"
      }
    },
    {
      "cell_type": "markdown",
      "source": [
        "Para esse trabalho, foi paralelizado de forma individual cada loop do laço for do código abaixo (externo, intermediário e interno), para ser possível estudar o desempenho e o efeito dessas paralelizações. Sendo assim, o código foi executado três (3) vezes para cada respectivo número de threads, sendo essas, 1, 2, 4, 8, 16, 32, 64 e, por último, 128. Foi gerada uma média aritmética e um desvio padrão para comparação entre esses resultados.\n",
        "\n",
        "Primeiramente, foi paralelizado o loop externo e executado o programa com o tamanho 2048 definido para linhas, colunas e vetor de resultados. A resposta dessa simulação pode ser observada no campo abaixo do código."
      ],
      "metadata": {
        "id": "zH5cA2J1JNSf"
      }
    },
    {
      "cell_type": "code",
      "source": [
        "%%writefile mm_1.c \n",
        "/*\n",
        "** PPD / DC/UFSCar - Helio\n",
        "** Programa : multiplicacao de matrizes\n",
        "** Objetivo: paralelizacao om OpenMP\n",
        "*/\n",
        "\n",
        "#include <math.h>\n",
        "#include <stdlib.h> \n",
        "#include <string.h>\n",
        "#include <stdio.h>\n",
        "#include <unistd.h>\n",
        "#include <time.h>\n",
        "#include <omp.h>\n",
        "\n",
        "float *A, *B, *C;\n",
        "\n",
        "\n",
        "int\n",
        "main(int argc, char *argv[])\n",
        "{\n",
        "\tint lin_a,col_a,lin_b,col_b,lin_c,col_c;\n",
        "\tint i,j,k;\n",
        "    \n",
        "\tdouble start;\n",
        "\tdouble end;\n",
        "\n",
        "\tunsigned int seedp = time(NULL);\n",
        "\n",
        "\tprintf(\"Linhas A: \");   scanf(\"%d\",&lin_a);\n",
        "\tprintf(\"Colunas A / Linhas B: \"); scanf(\"%d\",&col_a);\n",
        "\tlin_b = col_a;\n",
        "\tprintf(\"Colunas B: \");  scanf(\"%d\",&col_b);\n",
        "\tprintf(\"\\n\");\n",
        "\tlin_c = lin_a;\n",
        "\tcol_c = col_b;\n",
        "\n",
        "\t// Alocacao dinâmica das matrizes, com linhas em sequência \n",
        "\tA = (float *) malloc ( lin_a * col_a * sizeof(float) );\n",
        "\tB = (float *) malloc ( lin_b * col_b * sizeof(float) );\n",
        "\tC = (float *) malloc ( lin_c * col_c * sizeof(float) );\n",
        "\n",
        " \t// Atribucao de valores iniciais às matrizes \n",
        " \tsrand(time(NULL));\n",
        "\n",
        "\t// Opa! Vai gerar valores aleatórios em paralelo?\n",
        "\t// Talvez seja o caso de usar rand_r() ao invés de rand()...\n",
        "  \n",
        "\tfor(i=0; i < lin_a * col_a; i++) \n",
        "\t\t// A[i]=(float)rand() / (float)RAND_MAX; \n",
        "        A[i] = rand_r(&seedp);\n",
        "\n",
        "\tfor(i=0; i < lin_b * col_b; i++) \n",
        "        // B[i]=(float)rand() / (float)RAND_MAX; \n",
        "\t\tB[i] = rand_r(&seedp);\n",
        "\n",
        "\t// calculo da multiplicacao\n",
        " \n",
        "\t// Qual/quais loop(s) paralelizar? Vale a pena paralelizar todos?\n",
        "\t// Qual é o efeito de fazer um parallel for em cada um dos fors abaixo?\n",
        "\t// É necessários sincronizar alguma operação, garantindo exclusão mútua?\n",
        "\tint aux = 0;\n",
        "\n",
        "\tstart = omp_get_wtime();\n",
        "\n",
        "\t#pragma omp parallel for private (j, k) schedule(runtime) \n",
        "\tfor(i=0; i < lin_c; i++){\n",
        "\t\tfor(j=0; j < col_c; j++){\n",
        "\t\t\t// pode ser útil usar uma variável auxiliar para os cálculos\n",
        "\t\t\t// C[i*col_c+j]=0;\n",
        "\t\t\taux = 0;\n",
        "\t\t\tfor(k=0; k < col_a; k++) \n",
        "\t\t\t\taux += A[i*col_a+k] * B[k*col_b+j];\n",
        "\t\t\tC[i*col_c+j] = aux;\n",
        "\t\t\t// C[i*col_c+j] = C[i*col_c+j] + A[i*col_a+k] * B[k*col_b+j];\n",
        "\t// ser usou variável auxiliar, atribui-se seu valor à C[i][j]\n",
        "\t\t}\n",
        "\t} \n",
        "\tend = omp_get_wtime();\n",
        "\t//printf(\"Gerando valores aleatorios:%d\", rand_r(&seedp));\n",
        "\tprintf(\"Tempo gasto: %f \\n\", end-start);\n",
        "\treturn(0);\n",
        "}"
      ],
      "metadata": {
        "colab": {
          "base_uri": "https://localhost:8080/"
        },
        "id": "ZjAjrIFS7-JD",
        "outputId": "5aedf6e0-155d-418a-8507-85637d390de9"
      },
      "execution_count": null,
      "outputs": [
        {
          "output_type": "stream",
          "name": "stdout",
          "text": [
            "Overwriting mm_1.c\n"
          ]
        }
      ]
    },
    {
      "cell_type": "code",
      "source": [
        "! echo \"1024 1024 1024\" > 1024\n",
        "! echo \"2048 2048 2048\" > 2048\n",
        "! echo \"4096 4096 4096\" > 4096"
      ],
      "metadata": {
        "id": "TXY-Vqyh9ctM"
      },
      "execution_count": null,
      "outputs": []
    },
    {
      "cell_type": "code",
      "execution_count": null,
      "metadata": {
        "id": "jB7osoIb7BlH"
      },
      "outputs": [],
      "source": [
        "! gcc mm_1.c -o mm_1 -Wall -O3 -fopenmp\n",
        "\n"
      ]
    },
    {
      "cell_type": "code",
      "source": [
        "! for i in {1,2,4,8,16,32,64,128}; do for j in {1..3}; do echo \"$j ª execução com $i thread(s)\"; OMP_NUM_THREADS=$i ./mm_1 < 2048 ; done; echo; done"
      ],
      "metadata": {
        "colab": {
          "base_uri": "https://localhost:8080/"
        },
        "id": "wFM_Ie7qFDGo",
        "outputId": "9232e305-2b7b-444c-d838-1174ba473955"
      },
      "execution_count": null,
      "outputs": [
        {
          "output_type": "stream",
          "name": "stdout",
          "text": [
            "1 ª execução com 1 thread(s)\n",
            "Linhas A: Colunas A / Linhas B: Colunas B: \n",
            "Tempo gasto: 110.705863 \n",
            "2 ª execução com 1 thread(s)\n",
            "Linhas A: Colunas A / Linhas B: Colunas B: \n",
            "Tempo gasto: 108.287257 \n",
            "3 ª execução com 1 thread(s)\n",
            "Linhas A: Colunas A / Linhas B: Colunas B: \n",
            "Tempo gasto: 108.063928 \n",
            "\n",
            "1 ª execução com 2 thread(s)\n",
            "Linhas A: Colunas A / Linhas B: Colunas B: \n",
            "Tempo gasto: 105.727224 \n",
            "2 ª execução com 2 thread(s)\n",
            "Linhas A: Colunas A / Linhas B: Colunas B: \n",
            "Tempo gasto: 104.473918 \n",
            "3 ª execução com 2 thread(s)\n",
            "Linhas A: Colunas A / Linhas B: Colunas B: \n",
            "Tempo gasto: 105.907914 \n",
            "\n",
            "1 ª execução com 4 thread(s)\n",
            "Linhas A: Colunas A / Linhas B: Colunas B: \n",
            "Tempo gasto: 104.147428 \n",
            "2 ª execução com 4 thread(s)\n",
            "Linhas A: Colunas A / Linhas B: Colunas B: \n",
            "Tempo gasto: 103.963373 \n",
            "3 ª execução com 4 thread(s)\n",
            "Linhas A: Colunas A / Linhas B: Colunas B: \n",
            "Tempo gasto: 106.525262 \n",
            "\n",
            "1 ª execução com 8 thread(s)\n",
            "Linhas A: Colunas A / Linhas B: Colunas B: \n",
            "Tempo gasto: 104.328658 \n",
            "2 ª execução com 8 thread(s)\n",
            "Linhas A: Colunas A / Linhas B: Colunas B: \n",
            "Tempo gasto: 105.442779 \n",
            "3 ª execução com 8 thread(s)\n",
            "Linhas A: Colunas A / Linhas B: Colunas B: \n",
            "Tempo gasto: 104.202733 \n",
            "\n",
            "1 ª execução com 16 thread(s)\n",
            "Linhas A: Colunas A / Linhas B: Colunas B: \n",
            "Tempo gasto: 104.586434 \n",
            "2 ª execução com 16 thread(s)\n",
            "Linhas A: Colunas A / Linhas B: Colunas B: \n",
            "Tempo gasto: 106.222461 \n",
            "3 ª execução com 16 thread(s)\n",
            "Linhas A: Colunas A / Linhas B: Colunas B: \n",
            "Tempo gasto: 104.329724 \n",
            "\n",
            "1 ª execução com 32 thread(s)\n",
            "Linhas A: Colunas A / Linhas B: Colunas B: \n",
            "Tempo gasto: 104.232579 \n",
            "2 ª execução com 32 thread(s)\n",
            "Linhas A: Colunas A / Linhas B: Colunas B: \n",
            "Tempo gasto: 106.523953 \n",
            "3 ª execução com 32 thread(s)\n",
            "Linhas A: Colunas A / Linhas B: Colunas B: \n",
            "Tempo gasto: 104.808496 \n",
            "\n",
            "1 ª execução com 64 thread(s)\n",
            "Linhas A: Colunas A / Linhas B: Colunas B: \n",
            "Tempo gasto: 105.933390 \n",
            "2 ª execução com 64 thread(s)\n",
            "Linhas A: Colunas A / Linhas B: Colunas B: \n",
            "Tempo gasto: 104.614571 \n",
            "3 ª execução com 64 thread(s)\n",
            "Linhas A: Colunas A / Linhas B: Colunas B: \n",
            "Tempo gasto: 104.591390 \n",
            "\n",
            "1 ª execução com 128 thread(s)\n",
            "Linhas A: Colunas A / Linhas B: Colunas B: \n",
            "Tempo gasto: 105.442433 \n",
            "2 ª execução com 128 thread(s)\n",
            "Linhas A: Colunas A / Linhas B: Colunas B: \n",
            "Tempo gasto: 103.983965 \n",
            "3 ª execução com 128 thread(s)\n",
            "Linhas A: Colunas A / Linhas B: Colunas B: \n",
            "Tempo gasto: 103.697811 \n",
            "\n"
          ]
        }
      ]
    },
    {
      "cell_type": "markdown",
      "source": [
        "Em seguida, foi paralelizado o loop intermediário e executado o programa com os mesmos parâmetros definidos anteriormente. A resposta dessa simulação pode ser observada no campo abaixo do código.\n",
        "\n"
      ],
      "metadata": {
        "id": "29RTvt01Nl0p"
      }
    },
    {
      "cell_type": "code",
      "source": [
        "%%writefile mm_2.c \n",
        "/*\n",
        "** PPD / DC/UFSCar - Helio\n",
        "** Programa : multiplicacao de matrizes\n",
        "** Objetivo: paralelizacao om OpenMP\n",
        "*/\n",
        "\n",
        "#include <math.h>\n",
        "#include <stdlib.h> \n",
        "#include <string.h>\n",
        "#include <stdio.h>\n",
        "#include <unistd.h>\n",
        "#include <time.h>\n",
        "#include <omp.h>\n",
        "\n",
        "float *A, *B, *C;\n",
        "\n",
        "\n",
        "int\n",
        "main(int argc, char *argv[])\n",
        "{\n",
        "\tint lin_a,col_a,lin_b,col_b,lin_c,col_c;\n",
        "\tint i,j,k;\n",
        "    \n",
        "\tdouble start;\n",
        "\tdouble end;\n",
        "\n",
        "  unsigned int seedp = time(NULL);\n",
        "\n",
        "\tprintf(\"Linhas A: \");   scanf(\"%d\",&lin_a);\n",
        "\tprintf(\"Colunas A / Linhas B: \"); scanf(\"%d\",&col_a);\n",
        "\tlin_b = col_a;\n",
        "\tprintf(\"Colunas B: \");  scanf(\"%d\",&col_b);\n",
        "\tprintf(\"\\n\");\n",
        "\tlin_c = lin_a;\n",
        "\tcol_c = col_b;\n",
        "\n",
        "\t// Alocacao dinâmica das matrizes, com linhas em sequência \n",
        "\tA = (float *) malloc ( lin_a * col_a * sizeof(float) );\n",
        "\tB = (float *) malloc ( lin_b * col_b * sizeof(float) );\n",
        "\tC = (float *) malloc ( lin_c * col_c * sizeof(float) );\n",
        "\n",
        " \t// Atribucao de valores iniciais às matrizes \n",
        " \tsrand(time(NULL));\n",
        "\n",
        "\t// Opa! Vai gerar valores aleatórios em paralelo?\n",
        "\t// Talvez seja o caso de usar rand_r() ao invés de rand()...\n",
        "  \n",
        "\tfor(i=0; i < lin_a * col_a; i++) \n",
        "\t\t// A[i]=(float)rand() / (float)RAND_MAX; \n",
        "        A[i] = rand_r(&seedp);\n",
        "\n",
        "\tfor(i=0; i < lin_b * col_b; i++) \n",
        "        // B[i]=(float)rand() / (float)RAND_MAX; \n",
        "\t\tB[i] = rand_r(&seedp);\n",
        "\n",
        "\t// calculo da multiplicacao\n",
        " \n",
        "\t// Qual/quais loop(s) paralelizar? Vale a pena paralelizar todos?\n",
        "\t// Qual é o efeito de fazer um parallel for em cada um dos fors abaixo?\n",
        "\t// É necessários sincronizar alguma operação, garantindo exclusão mútua?\n",
        "\tint aux = 0;\n",
        "\n",
        "\tstart = omp_get_wtime();\n",
        "\n",
        "\tfor(i=0; i < lin_c; i++){\n",
        "    #pragma omp parallel for private (k) schedule(runtime) \n",
        "\t\tfor(j=0; j < col_c; j++){\n",
        "\t\t\t// pode ser útil usar uma variável auxiliar para os cálculos\n",
        "\t\t\t// C[i*col_c+j]=0;\n",
        "\t\t\taux = 0;\n",
        "\t\t\tfor(k=0; k < col_a; k++) \n",
        "\t\t\t\taux += A[i*col_a+k] * B[k*col_b+j];\n",
        "\t\t\tC[i*col_c+j] = aux;\n",
        "\t\t\t// C[i*col_c+j] = C[i*col_c+j] + A[i*col_a+k] * B[k*col_b+j];\n",
        "\t// ser usou variável auxiliar, atribui-se seu valor à C[i][j]\n",
        "\t\t}\n",
        "\t} \n",
        "\tend = omp_get_wtime();\n",
        "\t//printf(\"Gerando valores aleatorios:%d\", rand_r(&seedp));\n",
        "\tprintf(\"Tempo gasto: %f \\n\", end-start);\n",
        "\treturn(0);\n",
        "}"
      ],
      "metadata": {
        "colab": {
          "base_uri": "https://localhost:8080/"
        },
        "id": "0ZzWjJnEIohA",
        "outputId": "f5f566c6-d3ca-4005-ea12-d0b317f10c82"
      },
      "execution_count": null,
      "outputs": [
        {
          "output_type": "stream",
          "name": "stdout",
          "text": [
            "Overwriting mm_2.c\n"
          ]
        }
      ]
    },
    {
      "cell_type": "code",
      "source": [
        "! gcc mm_2.c -o mm_2 -Wall -O3 -fopenmp"
      ],
      "metadata": {
        "id": "ytW8WbYkODuq"
      },
      "execution_count": null,
      "outputs": []
    },
    {
      "cell_type": "code",
      "source": [
        "! for i in {1,2,4,8,16,32,64,128}; do for j in {1..3}; do echo \"$j ª execução com $i thread(s)\"; OMP_NUM_THREADS=$i ./mm_2 < 2048 ; done; echo; done"
      ],
      "metadata": {
        "colab": {
          "base_uri": "https://localhost:8080/"
        },
        "id": "mw2YSvPMPMcg",
        "outputId": "c0f5138e-4e1e-47e8-b56b-cf37c6e6dc68"
      },
      "execution_count": null,
      "outputs": [
        {
          "output_type": "stream",
          "name": "stdout",
          "text": [
            "1 ª execução com 1 thread(s)\n",
            "Linhas A: Colunas A / Linhas B: Colunas B: \n",
            "Tempo gasto: 109.428623 \n",
            "2 ª execução com 1 thread(s)\n",
            "Linhas A: Colunas A / Linhas B: Colunas B: \n",
            "Tempo gasto: 109.642193 \n",
            "3 ª execução com 1 thread(s)\n",
            "Linhas A: Colunas A / Linhas B: Colunas B: \n",
            "Tempo gasto: 109.807955 \n",
            "\n",
            "1 ª execução com 2 thread(s)\n",
            "Linhas A: Colunas A / Linhas B: Colunas B: \n",
            "Tempo gasto: 105.939883 \n",
            "2 ª execução com 2 thread(s)\n",
            "Linhas A: Colunas A / Linhas B: Colunas B: \n",
            "Tempo gasto: 107.836511 \n",
            "3 ª execução com 2 thread(s)\n",
            "Linhas A: Colunas A / Linhas B: Colunas B: \n",
            "Tempo gasto: 104.981946 \n",
            "\n",
            "1 ª execução com 4 thread(s)\n",
            "Linhas A: Colunas A / Linhas B: Colunas B: \n",
            "Tempo gasto: 107.000210 \n",
            "2 ª execução com 4 thread(s)\n",
            "Linhas A: Colunas A / Linhas B: Colunas B: \n",
            "Tempo gasto: 108.908836 \n",
            "3 ª execução com 4 thread(s)\n",
            "Linhas A: Colunas A / Linhas B: Colunas B: \n",
            "Tempo gasto: 106.599444 \n",
            "\n",
            "1 ª execução com 8 thread(s)\n",
            "Linhas A: Colunas A / Linhas B: Colunas B: \n",
            "Tempo gasto: 108.694439 \n",
            "2 ª execução com 8 thread(s)\n",
            "Linhas A: Colunas A / Linhas B: Colunas B: \n",
            "Tempo gasto: 109.576811 \n",
            "3 ª execução com 8 thread(s)\n",
            "Linhas A: Colunas A / Linhas B: Colunas B: \n",
            "Tempo gasto: 109.170599 \n",
            "\n",
            "1 ª execução com 16 thread(s)\n",
            "Linhas A: Colunas A / Linhas B: Colunas B: \n",
            "Tempo gasto: 111.728718 \n",
            "2 ª execução com 16 thread(s)\n",
            "Linhas A: Colunas A / Linhas B: Colunas B: \n",
            "Tempo gasto: 108.889297 \n",
            "3 ª execução com 16 thread(s)\n",
            "Linhas A: Colunas A / Linhas B: Colunas B: \n",
            "Tempo gasto: 109.312279 \n",
            "\n",
            "1 ª execução com 32 thread(s)\n",
            "Linhas A: Colunas A / Linhas B: Colunas B: \n",
            "Tempo gasto: 111.437466 \n",
            "2 ª execução com 32 thread(s)\n",
            "Linhas A: Colunas A / Linhas B: Colunas B: \n",
            "Tempo gasto: 108.570418 \n",
            "3 ª execução com 32 thread(s)\n",
            "Linhas A: Colunas A / Linhas B: Colunas B: \n",
            "Tempo gasto: 109.401148 \n",
            "\n",
            "1 ª execução com 64 thread(s)\n",
            "Linhas A: Colunas A / Linhas B: Colunas B: \n",
            "Tempo gasto: 110.816205 \n",
            "2 ª execução com 64 thread(s)\n",
            "Linhas A: Colunas A / Linhas B: Colunas B: \n",
            "Tempo gasto: 108.231494 \n",
            "3 ª execução com 64 thread(s)\n",
            "Linhas A: Colunas A / Linhas B: Colunas B: \n",
            "Tempo gasto: 111.190115 \n",
            "\n",
            "1 ª execução com 128 thread(s)\n",
            "Linhas A: Colunas A / Linhas B: Colunas B: \n",
            "Tempo gasto: 110.482504 \n",
            "2 ª execução com 128 thread(s)\n",
            "Linhas A: Colunas A / Linhas B: Colunas B: \n",
            "Tempo gasto: 109.842277 \n",
            "3 ª execução com 128 thread(s)\n",
            "Linhas A: Colunas A / Linhas B: Colunas B: \n",
            "Tempo gasto: 112.673355 \n",
            "\n"
          ]
        }
      ]
    },
    {
      "cell_type": "markdown",
      "source": [
        "Por último, foi paralelizado o loop interno e executado o programa com os mesmos parâmetros dos anteriores. A resposta dessa simulação pode ser observada no campo abaixo do código."
      ],
      "metadata": {
        "id": "a0q9OkcvOO-n"
      }
    },
    {
      "cell_type": "code",
      "source": [
        "%%writefile mm_3.c \n",
        "/*\n",
        "** PPD / DC/UFSCar - Helio\n",
        "** Programa : multiplicacao de matrizes\n",
        "** Objetivo: paralelizacao om OpenMP\n",
        "*/\n",
        "\n",
        "#include <math.h>\n",
        "#include <stdlib.h> \n",
        "#include <string.h>\n",
        "#include <stdio.h>\n",
        "#include <unistd.h>\n",
        "#include <time.h>\n",
        "#include <omp.h>\n",
        "\n",
        "float *A, *B, *C;\n",
        "\n",
        "\n",
        "int\n",
        "main(int argc, char *argv[])\n",
        "{\n",
        "\tint lin_a,col_a,lin_b,col_b,lin_c,col_c;\n",
        "\tint i,j,k;\n",
        "    \n",
        "\tdouble start;\n",
        "\tdouble end;\n",
        "\n",
        "  unsigned int seedp = time(NULL);\n",
        "\n",
        "\tprintf(\"Linhas A: \");   scanf(\"%d\",&lin_a);\n",
        "\tprintf(\"Colunas A / Linhas B: \"); scanf(\"%d\",&col_a);\n",
        "\tlin_b = col_a;\n",
        "\tprintf(\"Colunas B: \");  scanf(\"%d\",&col_b);\n",
        "\tprintf(\"\\n\");\n",
        "\tlin_c = lin_a;\n",
        "\tcol_c = col_b;\n",
        "\n",
        "\t// Alocacao dinâmica das matrizes, com linhas em sequência \n",
        "\tA = (float *) malloc ( lin_a * col_a * sizeof(float) );\n",
        "\tB = (float *) malloc ( lin_b * col_b * sizeof(float) );\n",
        "\tC = (float *) malloc ( lin_c * col_c * sizeof(float) );\n",
        "\n",
        " \t// Atribucao de valores iniciais às matrizes \n",
        " \tsrand(time(NULL));\n",
        "\n",
        "\t// Opa! Vai gerar valores aleatórios em paralelo?\n",
        "\t// Talvez seja o caso de usar rand_r() ao invés de rand()...\n",
        "  \n",
        "\tfor(i=0; i < lin_a * col_a; i++) \n",
        "\t\t// A[i]=(float)rand() / (float)RAND_MAX; \n",
        "        A[i] = rand_r(&seedp);\n",
        "\n",
        "\tfor(i=0; i < lin_b * col_b; i++) \n",
        "        // B[i]=(float)rand() / (float)RAND_MAX; \n",
        "\t\tB[i] = rand_r(&seedp);\n",
        "\n",
        "\t// calculo da multiplicacao\n",
        " \n",
        "\t// Qual/quais loop(s) paralelizar? Vale a pena paralelizar todos?\n",
        "\t// Qual é o efeito de fazer um parallel for em cada um dos fors abaixo?\n",
        "\t// É necessários sincronizar alguma operação, garantindo exclusão mútua?\n",
        "\tint aux = 0;\n",
        "\n",
        "\tstart = omp_get_wtime();\n",
        "\n",
        "\tfor(i=0; i < lin_c; i++){\n",
        "\t\tfor(j=0; j < col_c; j++){\n",
        "\t\t\t// pode ser útil usar uma variável auxiliar para os cálculos\n",
        "\t\t\t// C[i*col_c+j]=0;\n",
        "\t\t\taux = 0;\n",
        "\t\t\t#pragma omp parallel for reduction(+ : aux) schedule(runtime) \n",
        "\t\t\tfor(k=0; k < col_a; k++) \n",
        "\t\t\t\taux += A[i*col_a+k] * B[k*col_b+j];\n",
        "\t\t\tC[i*col_c+j] = aux;\n",
        "\t\t\t// C[i*col_c+j] = C[i*col_c+j] + A[i*col_a+k] * B[k*col_b+j];\n",
        "\t// ser usou variável auxiliar, atribui-se seu valor à C[i][j]\n",
        "\t\t}\n",
        "\t} \n",
        "\tend = omp_get_wtime();\n",
        "\t//printf(\"Gerando valores aleatorios:%d\", rand_r(&seedp));\n",
        "\tprintf(\"Tempo gasto: %f \\n\", end-start);\n",
        "\treturn(0);\n",
        "}"
      ],
      "metadata": {
        "colab": {
          "base_uri": "https://localhost:8080/"
        },
        "outputId": "08ea6190-8f6e-4c49-ecfb-37d2a45e7725",
        "id": "A1yN7SNkNfs8"
      },
      "execution_count": null,
      "outputs": [
        {
          "output_type": "stream",
          "name": "stdout",
          "text": [
            "Writing mm_3.c\n"
          ]
        }
      ]
    },
    {
      "cell_type": "code",
      "source": [
        "! gcc mm_3.c -o mm_3 -Wall -O3 -fopenmp"
      ],
      "metadata": {
        "id": "oP8t-kJQOJzQ"
      },
      "execution_count": null,
      "outputs": []
    },
    {
      "cell_type": "code",
      "source": [
        "! for i in {1,2,4,8,16,32,64,128}; do for j in {1..3}; do echo \"$j ª execução com $i thread(s)\"; OMP_NUM_THREADS=$i ./mm_3 < 2048 ; done; echo; done"
      ],
      "metadata": {
        "colab": {
          "base_uri": "https://localhost:8080/"
        },
        "id": "ySKiGXlpPHsY",
        "outputId": "10a4726f-38cc-4ce3-bdd7-a09c54ab9278"
      },
      "execution_count": null,
      "outputs": [
        {
          "output_type": "stream",
          "name": "stdout",
          "text": [
            "1 ª execução com 1 thread(s)\n",
            "Linhas A: Colunas A / Linhas B: Colunas B: \n",
            "Tempo gasto: 231.332775 \n",
            "2 ª execução com 1 thread(s)\n",
            "Linhas A: Colunas A / Linhas B: Colunas B: \n",
            "Tempo gasto: 227.434800 \n",
            "3 ª execução com 1 thread(s)\n",
            "Linhas A: Colunas A / Linhas B: Colunas B: \n",
            "Tempo gasto: 144.688373 \n",
            "\n",
            "1 ª execução com 2 thread(s)\n",
            "Linhas A: Colunas A / Linhas B: Colunas B: \n",
            "Tempo gasto: 272.010538 \n",
            "2 ª execução com 2 thread(s)\n",
            "Linhas A: Colunas A / Linhas B: Colunas B: \n",
            "Tempo gasto: 278.726340 \n",
            "3 ª execução com 2 thread(s)\n",
            "Linhas A: Colunas A / Linhas B: Colunas B: \n",
            "Tempo gasto: 265.362903 \n",
            "\n",
            "1 ª execução com 4 thread(s)\n",
            "Linhas A: Colunas A / Linhas B: Colunas B: \n",
            "Tempo gasto: 347.575022 \n",
            "2 ª execução com 4 thread(s)\n",
            "Linhas A: Colunas A / Linhas B: Colunas B: \n",
            "Tempo gasto: 355.275284 \n",
            "3 ª execução com 4 thread(s)\n",
            "Linhas A: Colunas A / Linhas B: Colunas B: \n",
            "Tempo gasto: 357.201631 \n",
            "\n",
            "1 ª execução com 8 thread(s)\n",
            "Linhas A: Colunas A / Linhas B: Colunas B: \n",
            "Tempo gasto: 548.064733 \n",
            "2 ª execução com 8 thread(s)\n",
            "Linhas A: Colunas A / Linhas B: Colunas B: \n",
            "Tempo gasto: 554.417878 \n",
            "3 ª execução com 8 thread(s)\n",
            "Linhas A: Colunas A / Linhas B: Colunas B: \n",
            "Tempo gasto: 540.397261 \n",
            "\n",
            "1 ª execução com 16 thread(s)\n",
            "Linhas A: Colunas A / Linhas B: Colunas B: \n",
            "Tempo gasto: 771.831703 \n",
            "2 ª execução com 16 thread(s)\n",
            "Linhas A: Colunas A / Linhas B: Colunas B: \n",
            "Tempo gasto: 765.895363 \n",
            "3 ª execução com 16 thread(s)\n",
            "Linhas A: Colunas A / Linhas B: Colunas B: \n",
            "Tempo gasto: 757.862890 \n",
            "\n",
            "1 ª execução com 32 thread(s)\n",
            "Linhas A: Colunas A / Linhas B: Colunas B: \n",
            "Tempo gasto: 1206.265592 \n",
            "2 ª execução com 32 thread(s)\n",
            "Linhas A: Colunas A / Linhas B: Colunas B: \n",
            "Tempo gasto: 1190.933548 \n",
            "3 ª execução com 32 thread(s)\n",
            "Linhas A: Colunas A / Linhas B: Colunas B: \n",
            "Tempo gasto: 1211.027258 \n",
            "\n",
            "1 ª execução com 64 thread(s)\n",
            "Linhas A: Colunas A / Linhas B: Colunas B: \n",
            "Tempo gasto: 2020.083543 \n",
            "2 ª execução com 64 thread(s)\n",
            "Linhas A: Colunas A / Linhas B: Colunas B: \n",
            "Tempo gasto: 2013.257106 \n",
            "3 ª execução com 64 thread(s)\n",
            "Linhas A: Colunas A / Linhas B: Colunas B: \n",
            "Tempo gasto: 1958.427085 \n",
            "\n",
            "1 ª execução com 128 thread(s)\n",
            "Linhas A: Colunas A / Linhas B: Colunas B: \n",
            "Tempo gasto: 3436.266942 \n",
            "2 ª execução com 128 thread(s)\n",
            "Linhas A: Colunas A / Linhas B: Colunas B: \n",
            "Tempo gasto: 3529.866332 \n",
            "3 ª execução com 128 thread(s)\n",
            "Linhas A: Colunas A / Linhas B: Colunas B: \n",
            "Tempo gasto: 3531.695641 \n",
            "\n"
          ]
        }
      ]
    },
    {
      "cell_type": "markdown",
      "source": [
        "#Comparação de resultados:\n",
        "\n",
        "Paralelização do loop externo:\n",
        "*   Média aritmética\n",
        "1.   1 thread: 109.01902\n",
        "2.   2 threads: 105.36969    \n",
        "3.   4 threads: 104.87869\n",
        "4.   8 threads: 104.65806\n",
        "5.   16 threads: 105.04621\n",
        "6.   32 threads: 105.18834\n",
        "7.   64 threads: 105.04645\n",
        "8.   128 threads: 104.37474\n",
        "\n",
        "\n",
        "*   Desvio padrão\n",
        "1.   1 thread: 1.46511\n",
        "2.   2 threads: 0.781\n",
        "3.   4 threads: 1.42894\n",
        "4.   8 threads: 0.6825\n",
        "5.   16 threads: 1.02672\n",
        "6.   32 threads: 1.19198\n",
        "7.   64 threads: 0.7682\n",
        "8.   128 threads: 0.93566\n",
        "\n",
        "Paralelização do loop intermediário:\n",
        "*   Média aritmética\n",
        "1.   1 thread:109.62626\n",
        "2.   2 threads:106.25278\n",
        "3.   4 threads:107.50283\n",
        "4.   8 threads:109.14728\n",
        "5.   16 threads:109.97676\n",
        "6.   32 threads:109.80301\n",
        "7.   64 threads:110.07927\n",
        "8.   128 threads:110.99938\n",
        "\n",
        "*   Desvio padrão\n",
        "1.   1 thread: 0.19017\n",
        "2.   2 threads:1.45278\n",
        "3.   4 threads:1.23401\n",
        "4.   8 threads:0.44165\n",
        "5.   16 threads:1.53191\n",
        "6.   32 threads:1.47516\n",
        "7.   64 threads:1.61111\n",
        "8.  128 threads:1.48463\n",
        "\n",
        "Paralelização do loop interno:\n",
        "*   Média aritmética\n",
        "1.   1 thread: 201.15198\n",
        "2.   2 threads: 272.03326\n",
        "2.   4 threads: 353.35065\n",
        "3.   8 threads: 547.62662\n",
        "4.   16 threads: 765.19665\n",
        "5.   32 threads: 1202.74213\n",
        "6.   64 threads: 1997.25591\n",
        "7.   128 threads: 3499.27631\n",
        "\n",
        "*   Desvio padrão\n",
        "1.   1 thread: 48.93775\n",
        "2.   2 threads: 6.68175\n",
        "3.   4 threads: 5.09373\n",
        "4.   8 threads: 7.02057\n",
        "5.   16 threads: 7.01057\n",
        "6.   32 threads: 10.5000\n",
        "7.   64 threads: 33.79953\n",
        "8.   128 threads: 54.57537\n"
      ],
      "metadata": {
        "id": "q1fqHNNrPXGP"
      }
    },
    {
      "cell_type": "code",
      "source": [
        "import matplotlib.pyplot as plt\n",
        "fig, axs = plt.subplots(3, figsize=(10, 10))\n",
        "fig.suptitle('Comparação gráfica de desempenho')\n",
        "for ax in axs.flat:\n",
        "  ax.set(xlabel='Número de threads', ylabel='Tempo (s)')\n",
        "\n",
        "\n",
        "plt.subplots_adjust(hspace=0.5)\n",
        "\n",
        "axs[0].title.set_text(\"Paralelização do laço externo\")\n",
        "axs[1].title.set_text(\"Paralelização do laço intermediário\")\n",
        "axs[2].title.set_text(\"Paralelização do laço interno\")\n",
        "\n",
        "axs[0].plot([1, 2, 4, 8, 16, 32, 64, 128], [109.01902, 105.36969, 104.87869, 104.65806, 105.04621, 105.18834, 105.04645, 104.37474])\n",
        "axs[1].plot([1, 2, 4, 8, 16, 32, 64, 128], [109.62626, 106.25278, 107.50283, 109.14728, 109.97676, 109.80301, 110.07927, 110.99938])\n",
        "axs[2].plot([1, 2, 4, 8, 16, 32, 64, 128], [201.15198, 272.03326, 353.35065, 547.62662, 765.19665, 1202.74213, 1997.25591, 3499.27631])\n",
        "\n",
        "plt.show()"
      ],
      "metadata": {
        "colab": {
          "base_uri": "https://localhost:8080/",
          "height": 677
        },
        "id": "u4gWAHHEPxGg",
        "outputId": "0fa05d32-4ef8-40cf-e65f-06d8bf8c221b"
      },
      "execution_count": 9,
      "outputs": [
        {
          "output_type": "display_data",
          "data": {
            "text/plain": [
              "<Figure size 720x720 with 3 Axes>"
            ],
            "image/png": "[encoded data removed]"
          },
          "metadata": {
            "needs_background": "light"
          }
        }
      ]
    },
    {
      "cell_type": "markdown",
      "source": [
        "Analisando os resultados obtidos, foi possível concluir que o mais vantajoso é paralelizar apenas o loop externo (no caso da necessidade de paralelizar apenas um loop), visto que criar threads e abrir regiões paralelas é muito custoso em termos de tempo e processamento. Sendo assim, o menor número de regiões paralelas criadas ocorre quando o laço externo é paralelizado, pois esse, executa apenas 2048 vezes (tamanho definido para o número de linhas). Utilizando o gráfico como forma de análise, na paralelização do laço interno, é possível notar o crescimento quase exponencial do tempo conforme mais threads são alocadas para processar a multiplicação das matrizes."
      ],
      "metadata": {
        "id": "L4xBRrsiVH4H"
      }
    }
  ]
}